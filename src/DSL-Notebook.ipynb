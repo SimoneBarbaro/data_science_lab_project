{
 "cells": [
  {
   "cell_type": "markdown",
   "metadata": {},
   "source": [
    "# Setup"
   ]
  },
  {
   "cell_type": "markdown",
   "metadata": {},
   "source": [
    "## Colab setup"
   ]
  },
  {
   "cell_type": "markdown",
   "metadata": {},
   "source": [
    "Run the following cells in order (by pressing `Shift-Enter` or clicking on the \"play\" button at the top-left of a cell when mousing over it). When a warning pops up, choose \"Run anyway\"."
   ]
  },
  {
   "cell_type": "code",
   "execution_count": null,
   "metadata": {},
   "outputs": [],
   "source": [
    "!rm -r sample_data\n",
    "!git clone https://github.com/SimoneBarbaro/data_science_lab_project.git"
   ]
  },
  {
   "cell_type": "code",
   "execution_count": null,
   "metadata": {},
   "outputs": [],
   "source": [
    "import os\n",
    "os.chdir(\"./data_science_lab_project/data\")\n",
    "!wget -O rare_targets.csv https://polybox.ethz.ch/index.php/s/iP10qmPV6mfLhQa/download\n",
    "os.chdir(\"..\")"
   ]
  },
  {
   "cell_type": "markdown",
   "metadata": {},
   "source": [
    "While waiting for the downloads above to complete, open the file browser on the left by clicking on the folder icon.\n",
    "\n",
    "**Upload the results archive `results_2020_12_08.zip` ([Polybox link](https://polybox.ethz.ch/index.php/f/2174207002)) to the `data_science_lab_project` folder** by hovering over the folder and choosing \"Upload\" from the three-dots menu that appears on the right or by dragging and dropping the zip archive from your file browser onto the `data_science_lab_project` folder. `results_2020_12_08.zip` should then be within the `data_science_lab_project` folder below the `data` and `src` folders, which you can check by expanding the folder contents by clicking on the triangle on the left of the folder name. Note that this upload can take about 60 minutes (if using Google Drive is approved, this process will be much faster). You can check the progress of the upload in the bottom left corner."
   ]
  },
  {
   "cell_type": "code",
   "execution_count": null,
   "metadata": {},
   "outputs": [],
   "source": [
    "!unzip results_*.zip"
   ]
  },
  {
   "cell_type": "code",
   "execution_count": null,
   "metadata": {
    "scrolled": true
   },
   "outputs": [],
   "source": [
    "!pip install -r src/requirements.txt\n",
    "os.chdir(\"src\")"
   ]
  },
  {
   "cell_type": "markdown",
   "metadata": {},
   "source": [
    "Read the available results from the file system: "
   ]
  },
  {
   "cell_type": "code",
   "execution_count": null,
   "metadata": {},
   "outputs": [],
   "source": [
    "import os, json, re\n",
    "import pandas as pd\n",
    "import matplotlib.pyplot as plt\n",
    "%matplotlib inline\n",
    "cwd = os.getcwd()\n",
    "results_directory = \"../results\"\n",
    "results_directory = os.path.join(cwd, results_directory)\n",
    "results_table = []\n",
    "for f in os.listdir(results_directory):\n",
    "    path = os.path.join(results_directory, f)\n",
    "    if os.path.isdir(path):\n",
    "        info_data = os.path.join(path, \"results_info.json\")\n",
    "        if os.path.exists(info_data):\n",
    "            with open(info_data) as info_f:\n",
    "                info = json.load(info_f)\n",
    "            results_table.append({\"folder\": f,\n",
    "                                  \"dataset\": info[\"dataset\"],\n",
    "                                  \"method\": re.search(\"_(.*?)[0-9]\", f).group(1),\n",
    "                                  \"clusters\": re.search(\"([0-9]+)\", f).group(1),\n",
    "                                  \"normalization\": \"norm\" if re.search(\"norm\", f) else \"\",\n",
    "                                  \"aggl_ave\": \"ave\" if re.search(\"ave\", f) else \"\",\n",
    "                                  \"silhouette\": info[\"silhouette_score\"]})\n",
    "        else:\n",
    "            results_table.append({\"folder\": f})\n",
    "results_table = pd.DataFrame(results_table)\n",
    "\n",
    "def full(df):\n",
    "    with pd.option_context('display.max_rows', None, 'display.max_columns', None, 'display.max_seq_items', None, 'display.max_colwidth', None):\n",
    "        display(df)"
   ]
  },
  {
   "cell_type": "markdown",
   "metadata": {},
   "source": [
    "Running the following cell should now list the runs that can be analyzed: each first specifies the dataset, then the clustering method, followed by the number of clusters and other relevant parameters.\n",
    "\n",
    "The clustering methods are:\n",
    "- `aggl`: [Agglomerative clustering](https://scikit-learn.org/stable/modules/generated/sklearn.cluster.AgglomerativeClustering.html)\n",
    "    - `ave` in agglomerative clustering refers to the parameter `linkage='average'` (as opposed to the default `linkage='ward'`)\n",
    "- `kmeans`: [K-means clustering](https://scikit-learn.org/stable/modules/generated/sklearn.cluster.KMeans.html)\n",
    "- `gmm`: [Gaussian mixture model](https://scikit-learn.org/stable/modules/generated/sklearn.mixture.GaussianMixture.html)\n",
    "\n",
    "`norm` refers to [normalization of columns to a standard normal distribution](https://scikit-learn.org/stable/modules/generated/sklearn.preprocessing.StandardScaler.html) prior to clustering.\n",
    "\n",
    "[Silhouette scores](https://en.wikipedia.org/wiki/Silhouette_(clustering)) are also reported: a higher score (maximum 1) means the clusters are more coherent."
   ]
  },
  {
   "cell_type": "code",
   "execution_count": null,
   "metadata": {
    "scrolled": true
   },
   "outputs": [],
   "source": [
    "sorting_column = \"silhouette\"\n",
    "sort_increasing = False\n",
    "\n",
    "full(results_table.sort_values(sorting_column, ascending=sort_increasing))\n",
    "# Note the use of the \"full\" function above: in case a table is not displayed in full\n",
    "# (rows, columns or text hidden), you may wrap it into \"full(...)\" to show it in full."
   ]
  },
  {
   "cell_type": "markdown",
   "metadata": {},
   "source": [
    "## Choose one of the clustering methods from the \"folder\" column above"
   ]
  },
  {
   "cell_type": "code",
   "execution_count": null,
   "metadata": {},
   "outputs": [],
   "source": [
    "name_analysis = 'spider_aggl10'"
   ]
  },
  {
   "cell_type": "code",
   "execution_count": null,
   "metadata": {},
   "outputs": [],
   "source": [
    "# The following sets up filepath variables for use later in the notebook\n",
    "result_path = os.path.join(results_directory, name_analysis)\n",
    "analysis_path = os.path.join(result_path, \"analysis\")"
   ]
  },
  {
   "cell_type": "markdown",
   "metadata": {},
   "source": [
    "# Clusters"
   ]
  },
  {
   "cell_type": "markdown",
   "metadata": {},
   "source": [
    "Show the beginning of the clustering results file to check it was read correctly:"
   ]
  },
  {
   "cell_type": "code",
   "execution_count": null,
   "metadata": {},
   "outputs": [],
   "source": [
    "pth = os.path.join(result_path, 'results.csv')\n",
    "clustering_results = pd.read_csv(pth)\n",
    "display(clustering_results.head())\n",
    "print(\"Number of drug pairs: {}\\nNumber of clusters: {} (from {} to {})\".format(clustering_results.shape[0], clustering_results[\"cluster\"].drop_duplicates().count(), clustering_results[\"cluster\"].min(), clustering_results[\"cluster\"].max()))"
   ]
  },
  {
   "cell_type": "markdown",
   "metadata": {},
   "source": [
    "Query for a specific drug pair provide names of both drugs in cell below:"
   ]
  },
  {
   "cell_type": "code",
   "execution_count": null,
   "metadata": {},
   "outputs": [],
   "source": [
    "name1 = 'tamoxifen'\n",
    "name2 = 'bupropion'\n",
    "clustering_results[(clustering_results['name1'] == name1) & (clustering_results['name2'] == name2)]"
   ]
  },
  {
   "cell_type": "markdown",
   "metadata": {},
   "source": [
    "# Side effects analysis"
   ]
  },
  {
   "cell_type": "markdown",
   "metadata": {},
   "source": [
    "## Choose a level of side effects"
   ]
  },
  {
   "cell_type": "markdown",
   "metadata": {},
   "source": [
    "There are five levels to the MedDRA hierarchy, of which four are available here. `System Organ Classes (SOC)` are the highest level terms based on location, etiology, or purpose. `High Level Group Terms (hlgt)` which are the next highest level terms are groups of `High Level Terms (hlt)` grouped together by anatomy, pathology, physiology, etiology and function. Likewise, `High Level Terms (hlt)`s themselves are groups of `Preferred Terms (pt)`, the most specific terms, grouped together by the same criteria.\n",
    "\n",
    "In the cell below, choose the analysis level of Meddra terms to look at for the analysis."
   ]
  },
  {
   "cell_type": "code",
   "execution_count": null,
   "metadata": {},
   "outputs": [],
   "source": [
    "analysis_level = 'soc'"
   ]
  },
  {
   "cell_type": "code",
   "execution_count": null,
   "metadata": {},
   "outputs": [],
   "source": [
    "pth = os.path.join(analysis_path, 'scores_' + analysis_level + '_term.csv')\n",
    "sideeffect_results = pd.read_csv(pth)\n",
    "sideeffect_results"
   ]
  },
  {
   "cell_type": "markdown",
   "metadata": {},
   "source": [
    "Show the top `N` side effects per group:"
   ]
  },
  {
   "cell_type": "code",
   "execution_count": null,
   "metadata": {
    "scrolled": false
   },
   "outputs": [],
   "source": [
    "N = 4\n",
    "\n",
    "full(sideeffect_results.sort_values([\"cluster\",\"rank\"]).groupby(\"cluster\").head(N).set_index([\"cluster\", \"{}_term\".format(analysis_level)]))"
   ]
  },
  {
   "cell_type": "markdown",
   "metadata": {},
   "source": [
    "## Clusters numbers"
   ]
  },
  {
   "cell_type": "markdown",
   "metadata": {},
   "source": [
    "Show cluster labels and count them:"
   ]
  },
  {
   "cell_type": "code",
   "execution_count": null,
   "metadata": {},
   "outputs": [],
   "source": [
    "sideeffect_results[\"cluster\"].drop_duplicates().values"
   ]
  },
  {
   "cell_type": "code",
   "execution_count": null,
   "metadata": {},
   "outputs": [],
   "source": [
    "num_clusters = sideeffect_results[\"cluster\"].drop_duplicates().count()\n",
    "num_clusters"
   ]
  },
  {
   "cell_type": "markdown",
   "metadata": {},
   "source": [
    "## Choose a specific cluster to inspect"
   ]
  },
  {
   "cell_type": "markdown",
   "metadata": {},
   "source": [
    "Below, one can choose which specific cluster to look at and analyze the significant side effects by changing the `cluster_no` variable."
   ]
  },
  {
   "cell_type": "code",
   "execution_count": null,
   "metadata": {},
   "outputs": [],
   "source": [
    "cluster_no = 0"
   ]
  },
  {
   "cell_type": "code",
   "execution_count": null,
   "metadata": {
    "scrolled": false
   },
   "outputs": [],
   "source": [
    "sideeffect_results[sideeffect_results['cluster'] == cluster_no].sort_values(\"rank\")"
   ]
  },
  {
   "cell_type": "markdown",
   "metadata": {},
   "source": [
    "# Significance Analysis"
   ]
  },
  {
   "cell_type": "markdown",
   "metadata": {},
   "source": [
    "The significance analysis shows which side effects are shown to be significant in each cluster using the [Grubbs test](https://en.wikipedia.org/wiki/Grubbs%27s_test#One-sided_case) at a significance level of 0.005. Below, choose a level of MedDRA hierarchy to observe the significant side effects predicted in each cluster. <!-- The `alpha` value determines the statistical significance level for which effects are significant. Currently only results for `alpha = 0.005` are computed. // alpha = 0.005  # Currently only 0.005 is available, do not change -->"
   ]
  },
  {
   "cell_type": "markdown",
   "metadata": {},
   "source": [
    "## Choose a level of side effects"
   ]
  },
  {
   "cell_type": "code",
   "execution_count": null,
   "metadata": {},
   "outputs": [],
   "source": [
    "analysis_level = 'soc'"
   ]
  },
  {
   "cell_type": "code",
   "execution_count": null,
   "metadata": {
    "scrolled": true
   },
   "outputs": [],
   "source": [
    "pth = os.path.join(analysis_path, 'significant_' + analysis_level + '_ranks_' + str(0.005) + '.csv')\n",
    "statistical_results = pd.read_csv(pth)\n",
    "full(statistical_results)"
   ]
  },
  {
   "cell_type": "markdown",
   "metadata": {},
   "source": [
    "Look at a given side effect term for all clusters:"
   ]
  },
  {
   "cell_type": "code",
   "execution_count": null,
   "metadata": {},
   "outputs": [],
   "source": [
    "term = \"Pregnancy, puerperium and perinatal conditions\"\n",
    "sideeffect_results[(sideeffect_results.iloc[:,1] == term)].sort_values(\"tfidf_score\", ascending=False)"
   ]
  },
  {
   "cell_type": "markdown",
   "metadata": {},
   "source": [
    "Look at the significant results summary. Each row shows a drug pair, its cluster and the top `soc`, top 3 `hlgt`, top 3 `hlt` and top 3 `pt` side effects for that cluster. `NaN` means the cluster did not have a significant side effect at a given level."
   ]
  },
  {
   "cell_type": "code",
   "execution_count": null,
   "metadata": {
    "scrolled": true
   },
   "outputs": [],
   "source": [
    "pth = os.path.join(analysis_path, 'significant_summary_ranks_' + str(0.005) + '.csv')\n",
    "summary_results = pd.read_csv(pth)\n",
    "summary_results"
   ]
  },
  {
   "cell_type": "markdown",
   "metadata": {},
   "source": [
    "Query for specific drugs"
   ]
  },
  {
   "cell_type": "code",
   "execution_count": null,
   "metadata": {},
   "outputs": [],
   "source": [
    "name1 = 'tamoxifen'\n",
    "name2 = 'bupropion'\n",
    "summary_results[(summary_results['name1'] == name1) & (summary_results['name2'] == name2)]"
   ]
  },
  {
   "cell_type": "markdown",
   "metadata": {},
   "source": [
    "# Target distribution for significant clusters"
   ]
  },
  {
   "cell_type": "markdown",
   "metadata": {},
   "source": [
    "This block will run the Interactive Analysis for identifying the strongest targets in each cluster."
   ]
  },
  {
   "cell_type": "code",
   "execution_count": null,
   "metadata": {},
   "outputs": [],
   "source": [
    "from experiment.interactive_analysis import InteractiveAnalyzer"
   ]
  },
  {
   "cell_type": "markdown",
   "metadata": {},
   "source": [
    "This may take some time as it needs to load TWOSIDES for further analysis."
   ]
  },
  {
   "cell_type": "code",
   "execution_count": null,
   "metadata": {},
   "outputs": [],
   "source": [
    "analyzer = InteractiveAnalyzer(result_path)"
   ]
  },
  {
   "cell_type": "markdown",
   "metadata": {},
   "source": [
    "#### Choose the level, the number of clusters to consider and the number of targets per cluster to show"
   ]
  },
  {
   "cell_type": "code",
   "execution_count": null,
   "metadata": {},
   "outputs": [],
   "source": [
    "analysis_level = 'hlgt'\n",
    "targets_per_cluster = 15\n",
    "cluster_number = clustering_results[\"cluster\"].drop_duplicates().count()"
   ]
  },
  {
   "cell_type": "code",
   "execution_count": null,
   "metadata": {
    "scrolled": true
   },
   "outputs": [],
   "source": [
    "significant_clusters, important_targets = analyzer.get_important_data(analysis_level, cluster_number, targets_per_cluster)\n",
    "significant_clusters"
   ]
  },
  {
   "cell_type": "markdown",
   "metadata": {},
   "source": [
    "List clusters with their side effects in increasing order of importance along with top targets in the cluster:"
   ]
  },
  {
   "cell_type": "code",
   "execution_count": null,
   "metadata": {},
   "outputs": [],
   "source": [
    "# THE FOLLOWING 3 CELLS ARE CURRENTLY NOT WORKING\n",
    "full(analyzer.make_more_complete_summary(significant_clusters, important_targets))"
   ]
  },
  {
   "cell_type": "markdown",
   "metadata": {},
   "source": [
    "From the table above, only show the top `N` side effects of each cluster:"
   ]
  },
  {
   "cell_type": "code",
   "execution_count": null,
   "metadata": {},
   "outputs": [],
   "source": [
    "N = 3\n",
    "full(analyzer.make_more_complete_summary(significant_clusters, important_targets)\n",
    "                 .groupby(\"cluster\").head(N).set_index([\"cluster\", \"{}_term\".format(analysis_level)])\n",
    "                 .drop(columns=[\"perc\",\"tfidf_score\",\"rank\",\"grubbs\",\"counts\",\"Rare\"]))"
   ]
  },
  {
   "cell_type": "markdown",
   "metadata": {},
   "source": [
    "Return any clusters where an important target is from the pre-defined list of rare targets:"
   ]
  },
  {
   "cell_type": "code",
   "execution_count": null,
   "metadata": {},
   "outputs": [],
   "source": [
    "analyzer.get_rare_important_targets(cluster_number, targets_per_cluster)"
   ]
  },
  {
   "cell_type": "markdown",
   "metadata": {},
   "source": [
    "#### Choose a specific cluster to inspect from the column \"cluster\" above\n",
    "as well as a threshold value (between 0 and 2 for SPiDER) representing sufficient probability for a drug pair to interact with a target."
   ]
  },
  {
   "cell_type": "code",
   "execution_count": null,
   "metadata": {},
   "outputs": [],
   "source": [
    "cluster_no = 0\n",
    "threshold = 0.5"
   ]
  },
  {
   "cell_type": "markdown",
   "metadata": {},
   "source": [
    "Descriptive statistics of the distribution of scores for important target of the chosen cluster:"
   ]
  },
  {
   "cell_type": "code",
   "execution_count": null,
   "metadata": {
    "scrolled": true
   },
   "outputs": [],
   "source": [
    "important_targets = analyzer.get_important_targets(cluster_no, targets_per_cluster)\n",
    "desc = important_targets.describe()\n",
    "frac = (important_targets > threshold).sum()/(important_targets.count())\n",
    "frac = frac.rename(\"Fraction above Threshold\")\n",
    "desc.append(frac)"
   ]
  },
  {
   "cell_type": "markdown",
   "metadata": {},
   "source": [
    "#### Choose a target to visualize from the columns above"
   ]
  },
  {
   "cell_type": "code",
   "execution_count": null,
   "metadata": {},
   "outputs": [],
   "source": [
    "target = 'Serine Threonine Kinase'"
   ]
  },
  {
   "cell_type": "markdown",
   "metadata": {},
   "source": [
    "Histogram of the distribution of the scores of the given target within the chosen cluster:"
   ]
  },
  {
   "cell_type": "code",
   "execution_count": null,
   "metadata": {},
   "outputs": [],
   "source": [
    "important_targets[target].plot.hist(xlim=([0,2] if \"spider\" in name_analysis else None))\n",
    "plt.axvline(threshold, color='k', linewidth=2)\n",
    "plt.text(threshold-0.055, plt.axis()[3]*0.2, 'threshold', rotation=90)"
   ]
  }
 ],
 "metadata": {
  "kernelspec": {
   "display_name": "Python 3",
   "language": "python",
   "name": "python3"
  },
  "language_info": {
   "codemirror_mode": {
    "name": "ipython",
    "version": 3
   },
   "file_extension": ".py",
   "mimetype": "text/x-python",
   "name": "python",
   "nbconvert_exporter": "python",
   "pygments_lexer": "ipython3",
   "version": "3.6.1"
  }
 },
 "nbformat": 4,
 "nbformat_minor": 4
}
