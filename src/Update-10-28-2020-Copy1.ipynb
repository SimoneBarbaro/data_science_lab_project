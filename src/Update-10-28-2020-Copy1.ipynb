{
 "cells": [
  {
   "cell_type": "code",
   "execution_count": 10,
   "metadata": {
    "scrolled": true
   },
   "outputs": [],
   "source": [
    "from clustering.clustering import get_clusterer\n",
    "from data.read_data import *\n",
    "from dimensionality_reduction.embedding import get_embedder\n",
    "from experiment import Experiment\n",
    "\n",
    "import argparse\n",
    "import json\n",
    "import numpy as np\n",
    "import matplotlib.pyplot as plt\n",
    "import matplotlib.image as mpimg"
   ]
  },
  {
   "cell_type": "markdown",
   "metadata": {},
   "source": [
    "Clustering results with infinite gaussian with dirichlet process prior"
   ]
  },
  {
   "cell_type": "code",
   "execution_count": 11,
   "metadata": {
    "scrolled": true
   },
   "outputs": [],
   "source": [
    "twosides = get_twosides_meddra(pickle=False)\n",
    "bayesian_results = pd.read_csv(\"../results/bayesian_gaussian/results.csv\")\n",
    "#kmeans_meddra = match_meddra(bayesian_results, twosides)\n",
    "\n",
    "#(kmeans_meddra.groupby([\"cluster\", \"soc_term\"]).size()/kmeans_meddra.groupby([\"cluster\"]).size())\\\n",
    "#.sort_values(ascending=False)\\\n",
    "#.sort_index(level=0, sort_remaining=False)\\\n",
    "#.groupby(\"cluster\").nlargest(8)"
   ]
  },
  {
   "cell_type": "markdown",
   "metadata": {},
   "source": [
    "<img src=\"../results/bayesian_gaussian/embedded_clusters.png\">"
   ]
  },
  {
   "cell_type": "code",
   "execution_count": 12,
   "metadata": {
    "scrolled": true
   },
   "outputs": [],
   "source": [
    "twosides = get_twosides_meddra(pickle=False)\n",
    "kmeans10 = pd.read_csv(\"../results/kmeans_10/kmeans_10_results.csv\")\n",
    "\n",
    "#(kmeans_meddra.groupby([\"cluster\", \"soc_term\"]).size()/kmeans_meddra.groupby([\"cluster\"]).size())\\\n",
    "#.sort_values(ascending=False)\\\n",
    "#.sort_index(level=0, sort_remaining=False)\\\n",
    "#.groupby(\"cluster\").nlargest(8)"
   ]
  },
  {
   "cell_type": "code",
   "execution_count": 13,
   "metadata": {},
   "outputs": [],
   "source": [
    "def intersect2D(a, b):\n",
    "  \"\"\"\n",
    "  Find row intersection between 2D numpy arrays, a and b.\n",
    "  Returns another numpy array with shared rows\n",
    "  \"\"\"\n",
    "  return np.array([x for x in set(tuple(x) for x in a) & set(tuple(x) for x in b)])"
   ]
  },
  {
   "cell_type": "code",
   "execution_count": 62,
   "metadata": {},
   "outputs": [],
   "source": [
    "def swap(a, i, j, r):\n",
    "    \"\"\"\n",
    "    Takes a numpy array and swaps matching elements\n",
    "    \"\"\"\n",
    "    if r == \"col\":\n",
    "        copy = np.copy(a[:, i])\n",
    "        a[:, i] = a[:, j]\n",
    "        a[:, j] = copy\n",
    "    elif r == \"row\":\n",
    "        copy = np.copy(a[i, :])\n",
    "        a[i, :] = a[j, :]\n",
    "        a[j, :] = copy\n",
    "    return a"
   ]
  },
  {
   "cell_type": "code",
   "execution_count": 450,
   "metadata": {},
   "outputs": [],
   "source": [
    "def max_swap(a):\n",
    "    for i in range(min(a.shape)):\n",
    "        sub = a[i:, i:]\n",
    "        maxi = np.argmax(sub)\n",
    "        ind1 = i + (maxi // (a.shape[1] - i)) % a.shape[0]\n",
    "        ind2 = (maxi % (a.shape[1])) + i\n",
    "        print(sub, i)\n",
    "        print(ind1, ind2)\n",
    "        cpy2 = np.copy(a[:, i])\n",
    "        a[:, i] = a[:, ind2]\n",
    "        a[:, ind2] = cpy2\n",
    "        cpy1 = np.copy(a[i, :])\n",
    "        #print(cpy1, cpy2)\n",
    "        a[i, :] = a[ind1, :]\n",
    "        a[ind1, :] = cpy1\n",
    "    return a"
   ]
  },
  {
   "cell_type": "code",
   "execution_count": 451,
   "metadata": {},
   "outputs": [
    {
     "data": {
      "text/plain": [
       "2"
      ]
     },
     "execution_count": 451,
     "metadata": {},
     "output_type": "execute_result"
    }
   ],
   "source": [
    "a = np.array([[10, 1, 2, 9, 2],[3, 4, 5, 11, 2], [6, 7, 8, 12, 15]])\n",
    "maxi = np.argmax(a)\n",
    "maxi % a.shape[1]\n",
    "(maxi // a.shape[1]) % a.shape[0]"
   ]
  },
  {
   "cell_type": "code",
   "execution_count": 452,
   "metadata": {},
   "outputs": [
    {
     "name": "stdout",
     "output_type": "stream",
     "text": [
      "[[10  1  2  9  2]\n",
      " [ 3  4  5 11  2]\n",
      " [ 6  7  8 12 15]] 0\n",
      "2 4\n",
      "[[ 4  5 11  3]\n",
      " [ 1  2  9 10]] 1\n",
      "1 3\n",
      "[[ 2  1 10]] 2\n",
      "2 4\n"
     ]
    },
    {
     "data": {
      "text/plain": [
       "array([[15, 12,  6,  7,  8],\n",
       "       [ 2, 11,  3,  4,  5],\n",
       "       [ 2,  9, 10,  1,  2]])"
      ]
     },
     "execution_count": 452,
     "metadata": {},
     "output_type": "execute_result"
    }
   ],
   "source": [
    "a.shape\n",
    "max_swap(a)"
   ]
  },
  {
   "cell_type": "code",
   "execution_count": 415,
   "metadata": {},
   "outputs": [],
   "source": [
    "def cluster_intersection(results1, results2):\n",
    "    \n",
    "    size = []\n",
    "    assignments = []\n",
    "    for i in range(len(results1[\"cluster\"].unique())):\n",
    "        size.append(results1[results1[\"cluster\"] == i].count()[\"cluster\"])\n",
    "        assignments.append(results1[results1[\"cluster\"] == i][results1.columns[0:2]].values)\n",
    "    \n",
    "    assignments_ordered = []\n",
    "    ranks = np.argsort(size)\n",
    "    for j in range(len(size)):\n",
    "        assignments_ordered.append(assignments[ranks[j]])\n",
    "    \n",
    "    size2 = []\n",
    "    assignments2 = []\n",
    "    for i in range(len(results2[\"cluster\"].unique())):\n",
    "        size2.append(results2[results2[\"cluster\"] == i].count()[\"cluster\"])\n",
    "        assignments2.append(results2[results2[\"cluster\"] == i][results2.columns[0:2]].values)\n",
    "    \n",
    "    assignments_ordered2 = []\n",
    "    ranks2 = np.argsort(size2)\n",
    "    for j in range(len(size2)):\n",
    "        assignments_ordered2.append(assignments2[ranks2[j]])\n",
    "    \n",
    "    mat = np.zeros((len(assignments_ordered), len(assignments_ordered2)))\n",
    "    \n",
    "    for i in range(len(assignments_ordered)):\n",
    "        for j in range(len(assignments_ordered2)):\n",
    "            mat[i, j] = len(intersect2D(assignments_ordered[i], assignments_ordered2[j]))\n",
    "    \n",
    "    v1 = np.array(size)\n",
    "    v2 = np.array(size2)\n",
    "    v1 = v1[ranks]\n",
    "    v2 = v2[ranks2]\n",
    "    \n",
    "    m1 = mat/v1[:, None]\n",
    "    m2 = mat/v2[None, :]\n",
    "       \n",
    "    m1 = max_swap(m1)\n",
    "    m2 = max_swap(m2)\n",
    "    return m1, m2 "
   ]
  },
  {
   "cell_type": "code",
   "execution_count": 416,
   "metadata": {},
   "outputs": [
    {
     "name": "stdout",
     "output_type": "stream",
     "text": [
      "[[0.03119043 0.0324034  0.03430948 0.04245365 0.05146422 0.0507711\n",
      "  0.05666262 0.06376711 0.06861896 0.07399064]\n",
      " [0.02755051 0.04474871 0.03957255 0.05059275 0.06344966 0.04441476\n",
      "  0.05510102 0.0637836  0.06294874 0.07113041]\n",
      " [0.0317069  0.03757225 0.03383203 0.04530772 0.04802788 0.05074804\n",
      "  0.05125808 0.06715403 0.06944917 0.08245495]\n",
      " [0.0245023  0.03712098 0.03957121 0.04967841 0.04049005 0.04833078\n",
      "  0.05678407 0.07540582 0.06983155 0.08508423]\n",
      " [0.02795351 0.03256339 0.03383846 0.04570644 0.05046344 0.0565936\n",
      "  0.05840812 0.06478348 0.07532735 0.08552793]] 0\n",
      "9 8\n"
     ]
    },
    {
     "ename": "IndexError",
     "evalue": "index 8 is out of bounds for axis 0 with size 5",
     "output_type": "error",
     "traceback": [
      "\u001b[1;31m---------------------------------------------------------------------------\u001b[0m",
      "\u001b[1;31mIndexError\u001b[0m                                Traceback (most recent call last)",
      "\u001b[1;32m<ipython-input-416-0f5ee98826eb>\u001b[0m in \u001b[0;36m<module>\u001b[1;34m\u001b[0m\n\u001b[1;32m----> 1\u001b[1;33m \u001b[0mm1\u001b[0m\u001b[1;33m,\u001b[0m \u001b[0mm2\u001b[0m \u001b[1;33m=\u001b[0m \u001b[0mcluster_intersection\u001b[0m\u001b[1;33m(\u001b[0m\u001b[0mbayesian_results\u001b[0m\u001b[1;33m,\u001b[0m\u001b[0mkmeans10\u001b[0m\u001b[1;33m)\u001b[0m\u001b[1;33m\u001b[0m\u001b[1;33m\u001b[0m\u001b[0m\n\u001b[0m",
      "\u001b[1;32m<ipython-input-415-70675ad1b265>\u001b[0m in \u001b[0;36mcluster_intersection\u001b[1;34m(results1, results2)\u001b[0m\n\u001b[0;32m     37\u001b[0m     \u001b[0mm2\u001b[0m \u001b[1;33m=\u001b[0m \u001b[0mmat\u001b[0m\u001b[1;33m/\u001b[0m\u001b[0mv2\u001b[0m\u001b[1;33m[\u001b[0m\u001b[1;32mNone\u001b[0m\u001b[1;33m,\u001b[0m \u001b[1;33m:\u001b[0m\u001b[1;33m]\u001b[0m\u001b[1;33m\u001b[0m\u001b[1;33m\u001b[0m\u001b[0m\n\u001b[0;32m     38\u001b[0m \u001b[1;33m\u001b[0m\u001b[0m\n\u001b[1;32m---> 39\u001b[1;33m     \u001b[0mm1\u001b[0m \u001b[1;33m=\u001b[0m \u001b[0mmax_swap\u001b[0m\u001b[1;33m(\u001b[0m\u001b[0mm1\u001b[0m\u001b[1;33m)\u001b[0m\u001b[1;33m\u001b[0m\u001b[1;33m\u001b[0m\u001b[0m\n\u001b[0m\u001b[0;32m     40\u001b[0m     \u001b[0mm2\u001b[0m \u001b[1;33m=\u001b[0m \u001b[0mmax_swap\u001b[0m\u001b[1;33m(\u001b[0m\u001b[0mm2\u001b[0m\u001b[1;33m)\u001b[0m\u001b[1;33m\u001b[0m\u001b[1;33m\u001b[0m\u001b[0m\n\u001b[0;32m     41\u001b[0m     \u001b[1;32mreturn\u001b[0m \u001b[0mm1\u001b[0m\u001b[1;33m,\u001b[0m \u001b[0mm2\u001b[0m\u001b[1;33m\u001b[0m\u001b[1;33m\u001b[0m\u001b[0m\n",
      "\u001b[1;32m<ipython-input-412-9cdd36d255f8>\u001b[0m in \u001b[0;36mmax_swap\u001b[1;34m(a)\u001b[0m\n\u001b[0;32m     12\u001b[0m         \u001b[0mcpy1\u001b[0m \u001b[1;33m=\u001b[0m \u001b[0mnp\u001b[0m\u001b[1;33m.\u001b[0m\u001b[0mcopy\u001b[0m\u001b[1;33m(\u001b[0m\u001b[0ma\u001b[0m\u001b[1;33m[\u001b[0m\u001b[0mi\u001b[0m\u001b[1;33m,\u001b[0m \u001b[1;33m:\u001b[0m\u001b[1;33m]\u001b[0m\u001b[1;33m)\u001b[0m\u001b[1;33m\u001b[0m\u001b[1;33m\u001b[0m\u001b[0m\n\u001b[0;32m     13\u001b[0m         \u001b[1;31m#print(cpy1, cpy2)\u001b[0m\u001b[1;33m\u001b[0m\u001b[1;33m\u001b[0m\u001b[1;33m\u001b[0m\u001b[0m\n\u001b[1;32m---> 14\u001b[1;33m         \u001b[0ma\u001b[0m\u001b[1;33m[\u001b[0m\u001b[0mi\u001b[0m\u001b[1;33m,\u001b[0m \u001b[1;33m:\u001b[0m\u001b[1;33m]\u001b[0m \u001b[1;33m=\u001b[0m \u001b[0ma\u001b[0m\u001b[1;33m[\u001b[0m\u001b[0mind2\u001b[0m\u001b[1;33m,\u001b[0m \u001b[1;33m:\u001b[0m\u001b[1;33m]\u001b[0m\u001b[1;33m\u001b[0m\u001b[1;33m\u001b[0m\u001b[0m\n\u001b[0m\u001b[0;32m     15\u001b[0m         \u001b[0ma\u001b[0m\u001b[1;33m[\u001b[0m\u001b[0mind2\u001b[0m\u001b[1;33m,\u001b[0m \u001b[1;33m:\u001b[0m\u001b[1;33m]\u001b[0m \u001b[1;33m=\u001b[0m \u001b[0mcpy1\u001b[0m\u001b[1;33m\u001b[0m\u001b[1;33m\u001b[0m\u001b[0m\n\u001b[0;32m     16\u001b[0m     \u001b[1;32mreturn\u001b[0m \u001b[0ma\u001b[0m\u001b[1;33m\u001b[0m\u001b[1;33m\u001b[0m\u001b[0m\n",
      "\u001b[1;31mIndexError\u001b[0m: index 8 is out of bounds for axis 0 with size 5"
     ]
    }
   ],
   "source": [
    "m1, m2 = cluster_intersection(bayesian_results,kmeans10)"
   ]
  },
  {
   "cell_type": "code",
   "execution_count": 249,
   "metadata": {
    "scrolled": true
   },
   "outputs": [
    {
     "data": {
      "text/plain": [
       "array([[0, 1, 2],\n",
       "       [3, 4, 5],\n",
       "       [6, 7, 8]])"
      ]
     },
     "execution_count": 249,
     "metadata": {},
     "output_type": "execute_result"
    }
   ],
   "source": [
    "a"
   ]
  },
  {
   "cell_type": "code",
   "execution_count": 166,
   "metadata": {},
   "outputs": [
    {
     "data": {
      "text/plain": [
       "array([5, 4, 3, 8, 7, 6, 2, 1, 0], dtype=int64)"
      ]
     },
     "execution_count": 166,
     "metadata": {},
     "output_type": "execute_result"
    }
   ],
   "source": [
    "ind = np.unravel_index(np.argsort(a, axis=None), a.shape)\n",
    "np.argsort(a.flatten())"
   ]
  },
  {
   "cell_type": "code",
   "execution_count": 3,
   "metadata": {},
   "outputs": [],
   "source": [
    "import numpy as np"
   ]
  },
  {
   "cell_type": "code",
   "execution_count": 81,
   "metadata": {},
   "outputs": [
    {
     "data": {
      "text/plain": [
       "array([], dtype=float64)"
      ]
     },
     "execution_count": 81,
     "metadata": {},
     "output_type": "execute_result"
    }
   ],
   "source": [
    "intersect2D(assignments_ordered[1], assignments_ordered[4])"
   ]
  },
  {
   "cell_type": "markdown",
   "metadata": {},
   "source": [
    "Clustering results with kmeans and 10 centers"
   ]
  },
  {
   "cell_type": "code",
   "execution_count": 83,
   "metadata": {},
   "outputs": [],
   "source": []
  },
  {
   "cell_type": "code",
   "execution_count": 86,
   "metadata": {},
   "outputs": [
    {
     "data": {
      "text/plain": [
       "180"
      ]
     },
     "execution_count": 86,
     "metadata": {},
     "output_type": "execute_result"
    }
   ],
   "source": [
    "len(intersect2D(assignments_ordered[0], assignments_ordered2[0]))"
   ]
  },
  {
   "cell_type": "markdown",
   "metadata": {},
   "source": [
    "Gaussian mixture model with 5 components clustering"
   ]
  },
  {
   "cell_type": "code",
   "execution_count": null,
   "metadata": {},
   "outputs": [],
   "source": [
    "twosides = get_twosides_meddra(pickle=False)\n",
    "kmeans_results = pd.read_csv(\"../results/gaussian_mixture/gmm_10_results.csv\")\n",
    "kmeans_meddra = match_meddra(kmeans_results, twosides)\n",
    "\n",
    "(kmeans_meddra.groupby([\"cluster\", \"soc_term\"]).size()/kmeans_meddra.groupby([\"cluster\"]).size())\\\n",
    ".sort_values(ascending=False)\\\n",
    ".sort_index(level=0, sort_remaining=False)\\\n",
    ".groupby(\"cluster\").nlargest(5)"
   ]
  },
  {
   "cell_type": "code",
   "execution_count": null,
   "metadata": {},
   "outputs": [],
   "source": []
  }
 ],
 "metadata": {
  "kernelspec": {
   "display_name": "Python 3",
   "language": "python",
   "name": "python3"
  },
  "language_info": {
   "codemirror_mode": {
    "name": "ipython",
    "version": 3
   },
   "file_extension": ".py",
   "mimetype": "text/x-python",
   "name": "python",
   "nbconvert_exporter": "python",
   "pygments_lexer": "ipython3",
   "version": "3.6.10"
  }
 },
 "nbformat": 4,
 "nbformat_minor": 4
}
