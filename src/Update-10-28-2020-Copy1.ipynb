{
 "cells": [
  {
   "cell_type": "code",
   "execution_count": 1,
   "metadata": {
    "scrolled": true
   },
   "outputs": [],
   "source": [
    "from clustering.clustering import get_clusterer\n",
    "from data.read_data import *\n",
    "from dimensionality_reduction.embedding import get_embedder\n",
    "from experiment import Experiment\n",
    "\n",
    "import argparse\n",
    "import json\n",
    "import numpy as np\n",
    "import matplotlib.pyplot as plt\n",
    "import matplotlib.image as mpimg"
   ]
  },
  {
   "cell_type": "markdown",
   "metadata": {},
   "source": [
    "Clustering results with infinite gaussian with dirichlet process prior"
   ]
  },
  {
   "cell_type": "code",
   "execution_count": 3,
   "metadata": {
    "scrolled": true
   },
   "outputs": [],
   "source": [
    "twosides = get_twosides_meddra(pickle=False)\n",
    "bayesian_results = pd.read_csv(\"../results/bayesian_gaussian/results.csv\")\n",
    "#kmeans_meddra = match_meddra(bayesian_results, twosides)\n",
    "\n",
    "#(kmeans_meddra.groupby([\"cluster\", \"soc_term\"]).size()/kmeans_meddra.groupby([\"cluster\"]).size())\\\n",
    "#.sort_values(ascending=False)\\\n",
    "#.sort_index(level=0, sort_remaining=False)\\\n",
    "#.groupby(\"cluster\").nlargest(8)"
   ]
  },
  {
   "cell_type": "markdown",
   "metadata": {},
   "source": [
    "<img src=\"../results/bayesian_gaussian/embedded_clusters.png\">"
   ]
  },
  {
   "cell_type": "code",
   "execution_count": 8,
   "metadata": {
    "scrolled": true
   },
   "outputs": [],
   "source": [
    "twosides = get_twosides_meddra(pickle=False)\n",
    "kmeans10 = pd.read_csv(\"../results/kmeans_10/kmeans_10_results.csv\")\n",
    "\n",
    "#(kmeans_meddra.groupby([\"cluster\", \"soc_term\"]).size()/kmeans_meddra.groupby([\"cluster\"]).size())\\\n",
    "#.sort_values(ascending=False)\\\n",
    "#.sort_index(level=0, sort_remaining=False)\\\n",
    "#.groupby(\"cluster\").nlargest(8)"
   ]
  },
  {
   "cell_type": "code",
   "execution_count": 4,
   "metadata": {},
   "outputs": [],
   "source": [
    "def intersect2D(a, b):\n",
    "  \"\"\"\n",
    "  Find row intersection between 2D numpy arrays, a and b.\n",
    "  Returns another numpy array with shared rows\n",
    "  \"\"\"\n",
    "  return np.array([x for x in set(tuple(x) for x in a) & set(tuple(x) for x in b)])"
   ]
  },
  {
   "cell_type": "code",
   "execution_count": 5,
   "metadata": {},
   "outputs": [],
   "source": [
    "def cluster_intersection(results1, results2):\n",
    "    size = []\n",
    "    assignments = []\n",
    "    for i in range(len(results1[\"cluster\"].unique())):\n",
    "        size.append(results1[results1[\"cluster\"] == i].count()[\"cluster\"])\n",
    "        assignments.append(results1[results1[\"cluster\"] == i][results1.columns[0:2]].values)\n",
    "    \n",
    "    assignments_ordered = []\n",
    "    ranks = np.argsort(size)\n",
    "    for j in range(len(size)):\n",
    "        assignments_ordered.append(assignments[ranks[j]])\n",
    "    \n",
    "    size2 = []\n",
    "    assignments2 = []\n",
    "    for i in range(len(results2[\"cluster\"].unique())):\n",
    "        size2.append(results2[results2[\"cluster\"] == i].count()[\"cluster\"])\n",
    "        assignments2.append(results2[results2[\"cluster\"] == i][results2.columns[0:2]].values)\n",
    "    \n",
    "    assignments_ordered2 = []\n",
    "    ranks2 = np.argsort(size2)\n",
    "    for j in range(len(size2)):\n",
    "        assignments_ordered2.append(assignments2[ranks2[j]])\n",
    "    \n",
    "    mat = np.zeros((len(assignments_ordered), len(assignments_ordered2)))\n",
    "    \n",
    "    for i in range(len(assignments_ordered)):\n",
    "        for j in range(len(assignments_ordered2)):\n",
    "            mat[i, j] = len(intersect2D(assignments_ordered[i], assignments_ordered2[j]))\n",
    "    \n",
    "    v1 = np.array(size)\n",
    "    v2 = np.array(size2)\n",
    "    \n",
    "    return mat/v1[:, None], mat/v2[None, :]"
   ]
  },
  {
   "cell_type": "code",
   "execution_count": 11,
   "metadata": {},
   "outputs": [],
   "source": [
    "m1, m2 = cluster_intersection(bayesian_results, kmeans10)"
   ]
  },
  {
   "cell_type": "code",
   "execution_count": 12,
   "metadata": {},
   "outputs": [
    {
     "data": {
      "text/plain": [
       "array([[0.01102603, 0.01145482, 0.01212864, 0.01500766, 0.01819296,\n",
       "        0.01794793, 0.02003063, 0.02254211, 0.02425727, 0.0261562 ],\n",
       "       [0.01402584, 0.02278137, 0.02014621, 0.02575655, 0.03230194,\n",
       "        0.02261136, 0.02805168, 0.03247195, 0.03204692, 0.03621217],\n",
       "       [0.01829238, 0.02167623, 0.01951841, 0.02613898, 0.0277083 ,\n",
       "        0.02927762, 0.02957187, 0.03874258, 0.0400667 , 0.04757001],\n",
       "       [0.06678911, 0.10118551, 0.10786442, 0.13541493, 0.11036901,\n",
       "        0.13174153, 0.15478377, 0.2055435 , 0.19034897, 0.2319252 ],\n",
       "       [0.09876971, 0.11505805, 0.11956333, 0.16149714, 0.17830532,\n",
       "        0.19996534, 0.20637671, 0.22890314, 0.26615838, 0.30220066]])"
      ]
     },
     "execution_count": 12,
     "metadata": {},
     "output_type": "execute_result"
    }
   ],
   "source": [
    "m1"
   ]
  },
  {
   "cell_type": "code",
   "execution_count": 13,
   "metadata": {},
   "outputs": [
    {
     "data": {
      "text/plain": [
       "array([[0.03197158, 0.03126567, 0.02099237, 0.03839524, 0.07865466,\n",
       "        0.03761232, 0.09258211, 0.08375057, 0.07341491, 0.05384615],\n",
       "       [0.02930728, 0.04480856, 0.02512723, 0.04748472, 0.10063559,\n",
       "        0.03414634, 0.09343148, 0.08693673, 0.06989247, 0.05372005],\n",
       "       [0.06625222, 0.07390069, 0.04219678, 0.08352923, 0.14962924,\n",
       "        0.07663671, 0.1707248 , 0.17979062, 0.15146459, 0.1223203 ],\n",
       "       [0.07104796, 0.10132085, 0.06849025, 0.12709607, 0.17505297,\n",
       "        0.1012837 , 0.26245753, 0.28015476, 0.21134594, 0.17515763],\n",
       "       [0.10124334, 0.11101822, 0.07315522, 0.14605861, 0.27251059,\n",
       "        0.14813864, 0.33720272, 0.30063723, 0.28476085, 0.21992434]])"
      ]
     },
     "execution_count": 13,
     "metadata": {},
     "output_type": "execute_result"
    }
   ],
   "source": [
    "m2"
   ]
  },
  {
   "cell_type": "code",
   "execution_count": null,
   "metadata": {},
   "outputs": [],
   "source": []
  },
  {
   "cell_type": "code",
   "execution_count": 81,
   "metadata": {},
   "outputs": [
    {
     "data": {
      "text/plain": [
       "array([], dtype=float64)"
      ]
     },
     "execution_count": 81,
     "metadata": {},
     "output_type": "execute_result"
    }
   ],
   "source": [
    "intersect2D(assignments_ordered[1], assignments_ordered[4])"
   ]
  },
  {
   "cell_type": "markdown",
   "metadata": {},
   "source": [
    "Clustering results with kmeans and 10 centers"
   ]
  },
  {
   "cell_type": "code",
   "execution_count": 83,
   "metadata": {},
   "outputs": [],
   "source": []
  },
  {
   "cell_type": "code",
   "execution_count": 86,
   "metadata": {},
   "outputs": [
    {
     "data": {
      "text/plain": [
       "180"
      ]
     },
     "execution_count": 86,
     "metadata": {},
     "output_type": "execute_result"
    }
   ],
   "source": [
    "len(intersect2D(assignments_ordered[0], assignments_ordered2[0]))"
   ]
  },
  {
   "cell_type": "markdown",
   "metadata": {},
   "source": [
    "Gaussian mixture model with 5 components clustering"
   ]
  },
  {
   "cell_type": "code",
   "execution_count": 20,
   "metadata": {},
   "outputs": [
    {
     "data": {
      "text/plain": [
       "cluster  cluster  soc_term                                            \n",
       "0        0        Nervous system disorders                                0.099148\n",
       "                  Gastrointestinal disorders                              0.075927\n",
       "                  General disorders and administration site conditions    0.075538\n",
       "                  Vascular disorders                                      0.071402\n",
       "                  Respiratory, thoracic and mediastinal disorders         0.064005\n",
       "1        1        Nervous system disorders                                0.097493\n",
       "                  Gastrointestinal disorders                              0.076335\n",
       "                  General disorders and administration site conditions    0.073574\n",
       "                  Vascular disorders                                      0.071943\n",
       "                  Respiratory, thoracic and mediastinal disorders         0.063548\n",
       "2        2        Nervous system disorders                                0.097830\n",
       "                  Gastrointestinal disorders                              0.075521\n",
       "                  General disorders and administration site conditions    0.074118\n",
       "                  Vascular disorders                                      0.071470\n",
       "                  Respiratory, thoracic and mediastinal disorders         0.064026\n",
       "3        3        Nervous system disorders                                0.098991\n",
       "                  Gastrointestinal disorders                              0.075758\n",
       "                  General disorders and administration site conditions    0.075239\n",
       "                  Vascular disorders                                      0.071843\n",
       "                  Respiratory, thoracic and mediastinal disorders         0.064250\n",
       "4        4        Nervous system disorders                                0.099270\n",
       "                  General disorders and administration site conditions    0.075737\n",
       "                  Gastrointestinal disorders                              0.075366\n",
       "                  Vascular disorders                                      0.072693\n",
       "                  Respiratory, thoracic and mediastinal disorders         0.064567\n",
       "dtype: float64"
      ]
     },
     "execution_count": 20,
     "metadata": {},
     "output_type": "execute_result"
    }
   ],
   "source": [
    "twosides = get_twosides_meddra(pickle=False)\n",
    "kmeans_results = pd.read_csv(\"../results/gaussian_mixture/gmm_10_results.csv\")\n",
    "kmeans_meddra = match_meddra(kmeans_results, twosides)\n",
    "\n",
    "(kmeans_meddra.groupby([\"cluster\", \"soc_term\"]).size()/kmeans_meddra.groupby([\"cluster\"]).size())\\\n",
    ".sort_values(ascending=False)\\\n",
    ".sort_index(level=0, sort_remaining=False)\\\n",
    ".groupby(\"cluster\").nlargest(5)"
   ]
  },
  {
   "cell_type": "code",
   "execution_count": null,
   "metadata": {},
   "outputs": [],
   "source": []
  }
 ],
 "metadata": {
  "kernelspec": {
   "display_name": "Python 3",
   "language": "python",
   "name": "python3"
  },
  "language_info": {
   "codemirror_mode": {
    "name": "ipython",
    "version": 3
   },
   "file_extension": ".py",
   "mimetype": "text/x-python",
   "name": "python",
   "nbconvert_exporter": "python",
   "pygments_lexer": "ipython3",
   "version": "3.6.10"
  }
 },
 "nbformat": 4,
 "nbformat_minor": 4
}
