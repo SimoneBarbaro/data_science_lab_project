{
 "cells": [
  {
   "cell_type": "code",
   "execution_count": 10,
   "metadata": {
    "scrolled": true
   },
   "outputs": [],
   "source": [
    "from clustering.clustering import get_clusterer\n",
    "from data.read_data import *\n",
    "from dimensionality_reduction.embedding import get_embedder\n",
    "from experiment import Experiment\n",
    "\n",
    "import argparse\n",
    "import json\n",
    "import numpy as np\n",
    "import matplotlib.pyplot as plt\n",
    "import matplotlib.image as mpimg"
   ]
  },
  {
   "cell_type": "markdown",
   "metadata": {},
   "source": [
    "Clustering results with infinite gaussian with dirichlet process prior"
   ]
  },
  {
   "cell_type": "code",
   "execution_count": 21,
   "metadata": {
    "scrolled": false
   },
   "outputs": [
    {
     "data": {
      "text/plain": [
       "cluster  cluster  soc_term                                            \n",
       "0        0        Nervous system disorders                                0.098740\n",
       "                  Gastrointestinal disorders                              0.075810\n",
       "                  General disorders and administration site conditions    0.074955\n",
       "                  Vascular disorders                                      0.072298\n",
       "                  Respiratory, thoracic and mediastinal disorders         0.064275\n",
       "                  Psychiatric disorders                                   0.063344\n",
       "                  Investigations                                          0.062029\n",
       "                  Musculoskeletal and connective tissue disorders         0.060904\n",
       "1        1        Nervous system disorders                                0.098423\n",
       "                  Gastrointestinal disorders                              0.075766\n",
       "                  General disorders and administration site conditions    0.075213\n",
       "                  Vascular disorders                                      0.071672\n",
       "                  Respiratory, thoracic and mediastinal disorders         0.064173\n",
       "                  Investigations                                          0.062769\n",
       "                  Psychiatric disorders                                   0.062550\n",
       "                  Musculoskeletal and connective tissue disorders         0.060418\n",
       "2        2        Nervous system disorders                                0.097447\n",
       "                  Gastrointestinal disorders                              0.076117\n",
       "                  General disorders and administration site conditions    0.073611\n",
       "                  Vascular disorders                                      0.071852\n",
       "                  Respiratory, thoracic and mediastinal disorders         0.063655\n",
       "                  Investigations                                          0.062835\n",
       "                  Psychiatric disorders                                   0.061991\n",
       "                  Musculoskeletal and connective tissue disorders         0.060872\n",
       "3        3        Nervous system disorders                                0.098746\n",
       "                  Gastrointestinal disorders                              0.075609\n",
       "                  General disorders and administration site conditions    0.074703\n",
       "                  Vascular disorders                                      0.071880\n",
       "                  Respiratory, thoracic and mediastinal disorders         0.063966\n",
       "                  Investigations                                          0.063517\n",
       "                  Psychiatric disorders                                   0.063500\n",
       "                  Musculoskeletal and connective tissue disorders         0.059715\n",
       "4        4        Nervous system disorders                                0.098643\n",
       "                  Gastrointestinal disorders                              0.075699\n",
       "                  General disorders and administration site conditions    0.074506\n",
       "                  Vascular disorders                                      0.071505\n",
       "                  Respiratory, thoracic and mediastinal disorders         0.063738\n",
       "                  Psychiatric disorders                                   0.062961\n",
       "                  Investigations                                          0.062504\n",
       "                  Musculoskeletal and connective tissue disorders         0.061090\n",
       "dtype: float64"
      ]
     },
     "execution_count": 21,
     "metadata": {},
     "output_type": "execute_result"
    }
   ],
   "source": [
    "twosides = get_twosides_meddra(pickle=False)\n",
    "kmeans_results = pd.read_csv(\"../results/bayesian_gaussian/results.csv\")\n",
    "kmeans_meddra = match_meddra(kmeans_results, twosides)\n",
    "\n",
    "(kmeans_meddra.groupby([\"cluster\", \"soc_term\"]).size()/kmeans_meddra.groupby([\"cluster\"]).size())\\\n",
    ".sort_values(ascending=False)\\\n",
    ".sort_index(level=0, sort_remaining=False)\\\n",
    ".groupby(\"cluster\").nlargest(8)"
   ]
  },
  {
   "cell_type": "markdown",
   "metadata": {},
   "source": [
    "<img src=\"../results/bayesian_gaussian/embedded_clusters.png\">"
   ]
  },
  {
   "cell_type": "markdown",
   "metadata": {},
   "source": [
    "Clustering results with kmeans and 10 centers"
   ]
  },
  {
   "cell_type": "code",
   "execution_count": 22,
   "metadata": {
    "scrolled": true
   },
   "outputs": [
    {
     "data": {
      "text/plain": [
       "cluster  cluster  soc_term                                            \n",
       "0        0        Nervous system disorders                                0.099376\n",
       "                  Gastrointestinal disorders                              0.075814\n",
       "                  General disorders and administration site conditions    0.074983\n",
       "                  Vascular disorders                                      0.071400\n",
       "                  Respiratory, thoracic and mediastinal disorders         0.064644\n",
       "                                                                            ...   \n",
       "9        9        Vascular disorders                                      0.070965\n",
       "                  Respiratory, thoracic and mediastinal disorders         0.063742\n",
       "                  Psychiatric disorders                                   0.063480\n",
       "                  Investigations                                          0.062266\n",
       "                  Musculoskeletal and connective tissue disorders         0.060684\n",
       "Length: 80, dtype: float64"
      ]
     },
     "execution_count": 22,
     "metadata": {},
     "output_type": "execute_result"
    }
   ],
   "source": [
    "twosides = get_twosides_meddra(pickle=False)\n",
    "kmeans_results = pd.read_csv(\"../results/kmeans_10/kmeans_10_results.csv\")\n",
    "kmeans_meddra = match_meddra(kmeans_results, twosides)\n",
    "\n",
    "(kmeans_meddra.groupby([\"cluster\", \"soc_term\"]).size()/kmeans_meddra.groupby([\"cluster\"]).size())\\\n",
    ".sort_values(ascending=False)\\\n",
    ".sort_index(level=0, sort_remaining=False)\\\n",
    ".groupby(\"cluster\").nlargest(8)"
   ]
  },
  {
   "cell_type": "markdown",
   "metadata": {},
   "source": [
    "Gaussian mixture model with 5 components clustering"
   ]
  },
  {
   "cell_type": "code",
   "execution_count": 23,
   "metadata": {},
   "outputs": [
    {
     "data": {
      "text/plain": [
       "cluster  cluster  soc_term                                            \n",
       "0        0        Nervous system disorders                                0.099148\n",
       "                  Gastrointestinal disorders                              0.075927\n",
       "                  General disorders and administration site conditions    0.075538\n",
       "                  Vascular disorders                                      0.071402\n",
       "                  Respiratory, thoracic and mediastinal disorders         0.064005\n",
       "                  Psychiatric disorders                                   0.063327\n",
       "                  Investigations                                          0.062593\n",
       "                  Musculoskeletal and connective tissue disorders         0.060546\n",
       "1        1        Nervous system disorders                                0.097493\n",
       "                  Gastrointestinal disorders                              0.076335\n",
       "                  General disorders and administration site conditions    0.073574\n",
       "                  Vascular disorders                                      0.071943\n",
       "                  Respiratory, thoracic and mediastinal disorders         0.063548\n",
       "                  Investigations                                          0.062561\n",
       "                  Psychiatric disorders                                   0.062016\n",
       "                  Musculoskeletal and connective tissue disorders         0.061043\n",
       "2        2        Nervous system disorders                                0.097830\n",
       "                  Gastrointestinal disorders                              0.075521\n",
       "                  General disorders and administration site conditions    0.074118\n",
       "                  Vascular disorders                                      0.071470\n",
       "                  Respiratory, thoracic and mediastinal disorders         0.064026\n",
       "                  Investigations                                          0.063435\n",
       "                  Psychiatric disorders                                   0.062331\n",
       "                  Musculoskeletal and connective tissue disorders         0.060168\n",
       "3        3        Nervous system disorders                                0.098991\n",
       "                  Gastrointestinal disorders                              0.075758\n",
       "                  General disorders and administration site conditions    0.075239\n",
       "                  Vascular disorders                                      0.071843\n",
       "                  Respiratory, thoracic and mediastinal disorders         0.064250\n",
       "                  Psychiatric disorders                                   0.063040\n",
       "                  Investigations                                          0.062263\n",
       "                  Musculoskeletal and connective tissue disorders         0.060638\n",
       "4        4        Nervous system disorders                                0.099270\n",
       "                  General disorders and administration site conditions    0.075737\n",
       "                  Gastrointestinal disorders                              0.075366\n",
       "                  Vascular disorders                                      0.072693\n",
       "                  Respiratory, thoracic and mediastinal disorders         0.064567\n",
       "                  Psychiatric disorders                                   0.064051\n",
       "                  Investigations                                          0.062087\n",
       "                  Musculoskeletal and connective tissue disorders         0.060750\n",
       "dtype: float64"
      ]
     },
     "execution_count": 23,
     "metadata": {},
     "output_type": "execute_result"
    }
   ],
   "source": [
    "twosides = get_twosides_meddra(pickle=False)\n",
    "kmeans_results = pd.read_csv(\"../results/gaussian_mixture/gmm_10_results.csv\")\n",
    "kmeans_meddra = match_meddra(kmeans_results, twosides)\n",
    "\n",
    "(kmeans_meddra.groupby([\"cluster\", \"soc_term\"]).size()/kmeans_meddra.groupby([\"cluster\"]).size())\\\n",
    ".sort_values(ascending=False)\\\n",
    ".sort_index(level=0, sort_remaining=False)\\\n",
    ".groupby(\"cluster\").nlargest(8)"
   ]
  },
  {
   "cell_type": "code",
   "execution_count": null,
   "metadata": {},
   "outputs": [],
   "source": []
  }
 ],
 "metadata": {
  "kernelspec": {
   "display_name": "Python 3",
   "language": "python",
   "name": "python3"
  },
  "language_info": {
   "codemirror_mode": {
    "name": "ipython",
    "version": 3
   },
   "file_extension": ".py",
   "mimetype": "text/x-python",
   "name": "python",
   "nbconvert_exporter": "python",
   "pygments_lexer": "ipython3",
   "version": "3.6.10"
  }
 },
 "nbformat": 4,
 "nbformat_minor": 4
}
